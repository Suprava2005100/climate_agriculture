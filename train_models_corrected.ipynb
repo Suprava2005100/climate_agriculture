{
 "cells": [
  {
   "cell_type": "code",
   "execution_count": null,
   "id": "02abba29-6464-44d3-803b-2ca9a7e3ca74",
   "metadata": {},
   "outputs": [],
   "source": []
  }
 ],
 "metadata": {
  "kernelspec": {
   "display_name": "",
   "name": ""
  },
  "language_info": {
   "name": ""
  }
 },
 "nbformat": 4,
 "nbformat_minor": 5
}
